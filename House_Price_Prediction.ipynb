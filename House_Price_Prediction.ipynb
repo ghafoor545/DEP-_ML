{
  "nbformat": 4,
  "nbformat_minor": 0,
  "metadata": {
    "colab": {
      "provenance": [],
      "gpuType": "T4",
      "include_colab_link": true
    },
    "kernelspec": {
      "name": "python3",
      "display_name": "Python 3"
    },
    "language_info": {
      "name": "python"
    },
    "accelerator": "GPU"
  },
  "cells": [
    {
      "cell_type": "markdown",
      "metadata": {
        "id": "view-in-github",
        "colab_type": "text"
      },
      "source": [
        "<a href=\"https://colab.research.google.com/github/ghafoor545/DEP-_ML/blob/main/House_Price_Prediction.ipynb\" target=\"_parent\"><img src=\"https://colab.research.google.com/assets/colab-badge.svg\" alt=\"Open In Colab\"/></a>"
      ]
    },
    {
      "cell_type": "markdown",
      "source": [
        "# **Ghafoor Khan**"
      ],
      "metadata": {
        "id": "-91sXS10h_zK"
      }
    },
    {
      "cell_type": "markdown",
      "source": [
        "# **Week 01 Task**"
      ],
      "metadata": {
        "id": "OkU4OcFkh4Gq"
      }
    },
    {
      "cell_type": "markdown",
      "source": [
        "# **1. Import Libraries**"
      ],
      "metadata": {
        "id": "79ri94_1htix"
      }
    },
    {
      "cell_type": "code",
      "source": [
        "import pandas as pd\n",
        "from sklearn.model_selection import train_test_split, GridSearchCV\n",
        "from sklearn.preprocessing import StandardScaler, OneHotEncoder\n",
        "from sklearn.compose import ColumnTransformer\n",
        "from sklearn.pipeline import Pipeline\n",
        "from sklearn.ensemble import RandomForestRegressor\n",
        "from sklearn.metrics import mean_squared_error, r2_score\n"
      ],
      "metadata": {
        "id": "XawXkje3hxpm"
      },
      "execution_count": null,
      "outputs": []
    },
    {
      "cell_type": "markdown",
      "source": [
        "# **2. Load and Prepare the Data**"
      ],
      "metadata": {
        "id": "_4Dh0ETshf__"
      }
    },
    {
      "cell_type": "code",
      "source": [
        "# Define categorical and numerical features\n",
        "categorical_features = ['mainroad', 'guestroom', 'basement', 'hotwaterheating', 'airconditioning', 'prefarea', 'furnishingstatus']\n",
        "numerical_features = ['area', 'bedrooms', 'bathrooms', 'stories', 'parking']\n",
        "\n",
        "# Preprocessing for numerical data\n",
        "numerical_transformer = StandardScaler()\n",
        "\n",
        "# Preprocessing for categorical data\n",
        "categorical_transformer = OneHotEncoder(drop='first')\n",
        "\n",
        "# Create the preprocessing pipeline\n",
        "preprocessor = ColumnTransformer(\n",
        "    transformers=[\n",
        "        ('num', numerical_transformer, numerical_features),\n",
        "        ('cat', categorical_transformer, categorical_features)\n",
        "    ])\n"
      ],
      "metadata": {
        "id": "4qYVT6-tgw4k"
      },
      "execution_count": null,
      "outputs": []
    },
    {
      "cell_type": "markdown",
      "source": [
        "# **3. Model Selection and Training**"
      ],
      "metadata": {
        "id": "5rFY9geMgzKm"
      }
    },
    {
      "cell_type": "code",
      "source": [
        "from sklearn.ensemble import RandomForestRegressor\n",
        "from sklearn.model_selection import GridSearchCV\n",
        "\n",
        "# Create the model pipeline\n",
        "model = Pipeline(steps=[\n",
        "    ('preprocessor', preprocessor),\n",
        "    ('regressor', RandomForestRegressor())\n",
        "])\n",
        "\n",
        "# Split the data\n",
        "X_train, X_test, y_train, y_test = train_test_split(X, y, test_size=0.2, random_state=42)\n",
        "\n",
        "# Define parameter grid for GridSearch\n",
        "param_grid = {\n",
        "    'regressor__n_estimators': [100, 200],\n",
        "    'regressor__max_depth': [10, 20],\n",
        "    'regressor__min_samples_split': [2, 5]\n",
        "}\n",
        "\n",
        "# Use GridSearchCV to find the best parameters\n",
        "grid_search = GridSearchCV(model, param_grid, cv=5, scoring='neg_mean_squared_error')\n",
        "grid_search.fit(X_train, y_train)\n",
        "\n",
        "# Get the best model\n",
        "best_model = grid_search.best_estimator_\n"
      ],
      "metadata": {
        "id": "IJqPM9L3g4YP"
      },
      "execution_count": null,
      "outputs": []
    },
    {
      "cell_type": "markdown",
      "source": [
        "# **4. Model Evaluation and Fine-Tuning**"
      ],
      "metadata": {
        "id": "z4aMRHoAg7Ew"
      }
    },
    {
      "cell_type": "code",
      "source": [
        "from sklearn.metrics import mean_squared_error, r2_score\n",
        "\n",
        "# Evaluate the model\n",
        "y_pred = best_model.predict(X_test)\n",
        "print(f'Mean Squared Error: {mean_squared_error(y_test, y_pred)}')\n",
        "print(f'R^2 Score: {r2_score(y_test, y_pred)}')\n"
      ],
      "metadata": {
        "id": "-DsVf8Xdg_em",
        "outputId": "c5ccc688-ceda-494e-cd80-582b9e233906",
        "colab": {
          "base_uri": "https://localhost:8080/"
        }
      },
      "execution_count": null,
      "outputs": [
        {
          "output_type": "stream",
          "name": "stdout",
          "text": [
            "Mean Squared Error: 2046609147214.674\n",
            "R^2 Score: 0.5950972985905918\n"
          ]
        }
      ]
    },
    {
      "cell_type": "markdown",
      "source": [
        "# **5. Function to Predict House Price**"
      ],
      "metadata": {
        "id": "KdZr0FrwhD-a"
      }
    },
    {
      "cell_type": "code",
      "source": [
        "# Function to predict house price\n",
        "def predict_house_price():\n",
        "    area = float(input(\"Enter the area of the house (in square feet): \"))\n",
        "    bedrooms = int(input(\"Enter the number of bedrooms: \"))\n",
        "    bathrooms = int(input(\"Enter the number of bathrooms: \"))\n",
        "    stories = int(input(\"Enter the number of stories: \"))\n",
        "    mainroad = input(\"Is the house on the main road? (yes/no): \").strip().lower()\n",
        "    guestroom = input(\"Is there a guestroom? (yes/no): \").strip().lower()\n",
        "    basement = input(\"Is there a basement? (yes/no): \").strip().lower()\n",
        "    hotwaterheating = input(\"Is there hot water heating? (yes/no): \").strip().lower()\n",
        "    airconditioning = input(\"Is there air conditioning? (yes/no): \").strip().lower()\n",
        "    parking = int(input(\"Enter the number of parking spaces: \"))\n",
        "    prefarea = input(\"Is the house in a preferred area? (yes/no): \").strip().lower()\n",
        "    furnishingstatus = input(\"Furnishing status (furnished/semi-furnished/unfurnished): \").strip().lower()\n",
        "\n",
        "    # Prepare the input data for prediction\n",
        "    new_data_df = pd.DataFrame([{\n",
        "        'area': area,\n",
        "        'bedrooms': bedrooms,\n",
        "        'bathrooms': bathrooms,\n",
        "        'stories': stories,\n",
        "        'mainroad': mainroad,\n",
        "        'guestroom': guestroom,\n",
        "        'basement': basement,\n",
        "        'hotwaterheating': hotwaterheating,\n",
        "        'airconditioning': airconditioning,\n",
        "        'parking': parking,\n",
        "        'prefarea': prefarea,\n",
        "        'furnishingstatus': furnishingstatus\n",
        "    }])\n",
        "\n",
        "    # Predict the price\n",
        "    predicted_price = best_model.predict(new_data_df)\n",
        "    print(f'Predicted Price: ${predicted_price[0]:,.2f}')\n"
      ],
      "metadata": {
        "id": "j7bLGqyQhGwd"
      },
      "execution_count": null,
      "outputs": []
    },
    {
      "cell_type": "markdown",
      "source": [
        "# **6. Call the Prediction Function**"
      ],
      "metadata": {
        "id": "BHDhtV3qhMVc"
      }
    },
    {
      "cell_type": "code",
      "source": [
        "# Call the function to predict the price\n",
        "predict_house_price()\n"
      ],
      "metadata": {
        "id": "mD2Evk91hOCO",
        "outputId": "eedc9a82-faf8-4092-b3ab-2f24a84fc145",
        "colab": {
          "base_uri": "https://localhost:8080/"
        }
      },
      "execution_count": null,
      "outputs": [
        {
          "output_type": "stream",
          "name": "stdout",
          "text": [
            "Enter the area of the house (in square feet): 2736\n",
            "Enter the number of bedrooms: 2\n",
            "Enter the number of bathrooms: 2\n",
            "Enter the number of stories: 3\n",
            "Is the house on the main road? (yes/no): yes\n",
            "Is there a guestroom? (yes/no): no\n",
            "Is there a basement? (yes/no): no\n",
            "Is there hot water heating? (yes/no): no\n",
            "Is there air conditioning? (yes/no): yes\n",
            "Enter the number of parking spaces: 2\n",
            "Is the house in a preferred area? (yes/no): yes\n",
            "Furnishing status (furnished/semi-furnished/unfurnished): unfurnished\n",
            "Predicted Price: $4,723,192.89\n"
          ]
        }
      ]
    },
    {
      "cell_type": "code",
      "source": [],
      "metadata": {
        "id": "MglkzYOahPZq"
      },
      "execution_count": null,
      "outputs": []
    }
  ]
}